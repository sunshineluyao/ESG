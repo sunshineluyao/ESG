{
  "nbformat": 4,
  "nbformat_minor": 0,
  "metadata": {
    "colab": {
      "name": "StockData_Jan.ipynb",
      "provenance": [],
      "private_outputs": true,
      "authorship_tag": "ABX9TyM6xbh7fOUPRfvhJFyqBU2z",
      "include_colab_link": true
    },
    "kernelspec": {
      "name": "python3",
      "display_name": "Python 3"
    }
  },
  "cells": [
    {
      "cell_type": "markdown",
      "metadata": {
        "id": "view-in-github",
        "colab_type": "text"
      },
      "source": [
        "<a href=\"https://colab.research.google.com/github/sunshineluyao/ESG/blob/master/Stock_Data/StockData_Jan.ipynb\" target=\"_parent\"><img src=\"https://colab.research.google.com/assets/colab-badge.svg\" alt=\"Open In Colab\"/></a>"
      ]
    },
    {
      "cell_type": "code",
      "metadata": {
        "id": "j0K-bZFWVc4a",
        "colab_type": "code",
        "colab": {}
      },
      "source": [
        "### import packages\n",
        "import pandas as pd\n",
        "import numpy as np\n",
        "### show all columns\n",
        "pd.set_option('display.max_columns', None)\n",
        "pd.set_option('display.max_rows', None)"
      ],
      "execution_count": null,
      "outputs": []
    },
    {
      "cell_type": "code",
      "metadata": {
        "id": "h3t1sy62Vkkq",
        "colab_type": "code",
        "colab": {}
      },
      "source": [
        "### Import data\n",
        "df_Jan= pd.read_csv(\"https://raw.githubusercontent.com/sunshineluyao/ESG/master/Stock_Data/SP1500_Jan.csv\")\n",
        "df_Jan.head()"
      ],
      "execution_count": null,
      "outputs": []
    },
    {
      "cell_type": "code",
      "metadata": {
        "id": "qCg_6_NJYrPW",
        "colab_type": "code",
        "colab": {}
      },
      "source": [
        "df_Jan=df_Jan.dropna()"
      ],
      "execution_count": null,
      "outputs": []
    },
    {
      "cell_type": "code",
      "metadata": {
        "id": "zWQ4yQVVNiQn",
        "colab_type": "code",
        "colab": {}
      },
      "source": [
        "df_Jan=df_Jan.set_index('Symbol',drop=True)\n",
        "df_Jan.head()"
      ],
      "execution_count": null,
      "outputs": []
    },
    {
      "cell_type": "code",
      "metadata": {
        "id": "QiO4jxtCNynF",
        "colab_type": "code",
        "colab": {}
      },
      "source": [
        "df_Jan.index.name=None\n",
        "df_Jan.head()"
      ],
      "execution_count": null,
      "outputs": []
    },
    {
      "cell_type": "code",
      "metadata": {
        "id": "DuNMbPTfC4Yw",
        "colab_type": "code",
        "colab": {}
      },
      "source": [
        "df_Jan_Price = df_Jan.iloc[:,9:-2:2]\n",
        "df_Jan_Price.head()"
      ],
      "execution_count": null,
      "outputs": []
    },
    {
      "cell_type": "code",
      "metadata": {
        "id": "Nlq2uc1hWIZz",
        "colab_type": "code",
        "colab": {}
      },
      "source": [
        "df_Jan_MarketValue = df_Jan.iloc[:,8:-3:2]\n",
        "df_Jan_MarketValue.head()"
      ],
      "execution_count": null,
      "outputs": []
    },
    {
      "cell_type": "code",
      "metadata": {
        "id": "kkrS1V7MNAji",
        "colab_type": "code",
        "colab": {}
      },
      "source": [
        "df_Jan_Price =df_Jan_Price.transpose()"
      ],
      "execution_count": null,
      "outputs": []
    },
    {
      "cell_type": "code",
      "metadata": {
        "id": "MLUM0smIWShT",
        "colab_type": "code",
        "colab": {}
      },
      "source": [
        "df_Jan_MarketValue = df_Jan_MarketValue.transpose()"
      ],
      "execution_count": null,
      "outputs": []
    },
    {
      "cell_type": "code",
      "metadata": {
        "id": "iHmuvHbsOrKV",
        "colab_type": "code",
        "colab": {}
      },
      "source": [
        "df_Jan_Price.head()"
      ],
      "execution_count": null,
      "outputs": []
    },
    {
      "cell_type": "code",
      "metadata": {
        "id": "XvZQvtLdWblF",
        "colab_type": "code",
        "colab": {}
      },
      "source": [
        "df_Jan_MarketValue.head()"
      ],
      "execution_count": null,
      "outputs": []
    },
    {
      "cell_type": "code",
      "metadata": {
        "id": "RcXJ7LZoOtdj",
        "colab_type": "code",
        "colab": {}
      },
      "source": [
        "df_Jan_Price['date']=pd.date_range(start='1/1/2020', end='2/1/2020',closed='left')\n",
        "df_Jan_Price.head()"
      ],
      "execution_count": null,
      "outputs": []
    },
    {
      "cell_type": "code",
      "metadata": {
        "id": "jx_Tu_YMWfMb",
        "colab_type": "code",
        "colab": {}
      },
      "source": [
        "df_Jan_MarketValue['date']=pd.date_range(start='1/1/2020', end='2/1/2020',closed='left')\n",
        "df_Jan_MarketValue.head()"
      ],
      "execution_count": null,
      "outputs": []
    },
    {
      "cell_type": "code",
      "metadata": {
        "id": "auqGHZjWPMFJ",
        "colab_type": "code",
        "colab": {}
      },
      "source": [
        "df_Jan_Price=df_Jan_Price.set_index('date',drop=True)\n",
        "df_Jan_Price.head()"
      ],
      "execution_count": null,
      "outputs": []
    },
    {
      "cell_type": "code",
      "metadata": {
        "id": "vlefzntnWqN4",
        "colab_type": "code",
        "colab": {}
      },
      "source": [
        "df_Jan_MarketValue=df_Jan_MarketValue.set_index('date',drop=True)\n",
        "df_Jan_MarketValue.head()"
      ],
      "execution_count": null,
      "outputs": []
    },
    {
      "cell_type": "code",
      "metadata": {
        "id": "4NnjeM4WP6xP",
        "colab_type": "code",
        "colab": {}
      },
      "source": [
        "df_Jan_Price.index.name=None\n",
        "df_Jan_Price.head()"
      ],
      "execution_count": null,
      "outputs": []
    },
    {
      "cell_type": "code",
      "metadata": {
        "id": "J15rYdI-ZC6O",
        "colab_type": "code",
        "colab": {}
      },
      "source": [
        "df_Jan_MarketValue.index.name=None\n",
        "df_Jan_MarketValue.head()"
      ],
      "execution_count": null,
      "outputs": []
    },
    {
      "cell_type": "code",
      "metadata": {
        "id": "SuHdIuhrQCP7",
        "colab_type": "code",
        "colab": {}
      },
      "source": [
        "df_Jan_Price.info()"
      ],
      "execution_count": null,
      "outputs": []
    },
    {
      "cell_type": "code",
      "metadata": {
        "id": "Joozc6g1ZHxa",
        "colab_type": "code",
        "colab": {}
      },
      "source": [
        "df_Jan_MarketValue.info()"
      ],
      "execution_count": null,
      "outputs": []
    },
    {
      "cell_type": "code",
      "metadata": {
        "id": "9CEZkt8mUD2M",
        "colab_type": "code",
        "colab": {}
      },
      "source": [
        "df_Jan_Price=df_Jan_Price.apply(lambda x: x.str.replace(',', ''), axis=1)"
      ],
      "execution_count": null,
      "outputs": []
    },
    {
      "cell_type": "code",
      "metadata": {
        "id": "ziJoAa3wZL2Y",
        "colab_type": "code",
        "colab": {}
      },
      "source": [
        "df_Jan_MarketValue=df_Jan_MarketValue.apply(lambda x: x.str.replace(',', ''), axis=1)"
      ],
      "execution_count": null,
      "outputs": []
    },
    {
      "cell_type": "code",
      "metadata": {
        "id": "ilrMFGMrQaVb",
        "colab_type": "code",
        "colab": {}
      },
      "source": [
        "df_Jan_Price = df_Jan_Price.astype('float')\n",
        "df_Jan_Price.info()"
      ],
      "execution_count": null,
      "outputs": []
    },
    {
      "cell_type": "code",
      "metadata": {
        "id": "9kyhKOcAZQrf",
        "colab_type": "code",
        "colab": {}
      },
      "source": [
        "df_Jan_MarketValue = df_Jan_MarketValue.astype('float')\n",
        "df_Jan_MarketValue.info()"
      ],
      "execution_count": null,
      "outputs": []
    },
    {
      "cell_type": "code",
      "metadata": {
        "id": "biQlqW3bVlCP",
        "colab_type": "code",
        "colab": {}
      },
      "source": [
        "df_Jan_Price.tail()"
      ],
      "execution_count": null,
      "outputs": []
    },
    {
      "cell_type": "code",
      "metadata": {
        "id": "vgUOJGLOZWQg",
        "colab_type": "code",
        "colab": {}
      },
      "source": [
        "df_Jan_MarketValue.tail()"
      ],
      "execution_count": null,
      "outputs": []
    },
    {
      "cell_type": "code",
      "metadata": {
        "id": "1qEMMGoAVsgM",
        "colab_type": "code",
        "colab": {}
      },
      "source": [
        "df_Jan_Price.to_csv('Price_Jan.csv')\n",
        "df_Jan_MarketValue.to_csv('MarketValue_Jan.csv')"
      ],
      "execution_count": null,
      "outputs": []
    },
    {
      "cell_type": "code",
      "metadata": {
        "id": "FLtYutlFZiIx",
        "colab_type": "code",
        "colab": {}
      },
      "source": [
        ""
      ],
      "execution_count": null,
      "outputs": []
    }
  ]
}