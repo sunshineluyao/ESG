{
  "nbformat": 4,
  "nbformat_minor": 0,
  "metadata": {
    "colab": {
      "name": "StockData_Aug.ipynb",
      "provenance": [],
      "private_outputs": true,
      "authorship_tag": "ABX9TyOAtuy6vRno1hvQFlwwRppM",
      "include_colab_link": true
    },
    "kernelspec": {
      "name": "python3",
      "display_name": "Python 3"
    }
  },
  "cells": [
    {
      "cell_type": "markdown",
      "metadata": {
        "id": "view-in-github",
        "colab_type": "text"
      },
      "source": [
        "<a href=\"https://colab.research.google.com/github/sunshineluyao/ESG/blob/master/Stock_Data/StockData_Aug.ipynb\" target=\"_parent\"><img src=\"https://colab.research.google.com/assets/colab-badge.svg\" alt=\"Open In Colab\"/></a>"
      ]
    },
    {
      "cell_type": "code",
      "metadata": {
        "id": "j0K-bZFWVc4a",
        "colab_type": "code",
        "colab": {}
      },
      "source": [
        "### import packages\n",
        "import pandas as pd\n",
        "import numpy as np\n",
        "### show all columns\n",
        "pd.set_option('display.max_columns', None)\n",
        "pd.set_option('display.max_rows', None)"
      ],
      "execution_count": null,
      "outputs": []
    },
    {
      "cell_type": "code",
      "metadata": {
        "id": "h3t1sy62Vkkq",
        "colab_type": "code",
        "colab": {}
      },
      "source": [
        "### Import data\n",
        "df_Aug= pd.read_csv(\"https://raw.githubusercontent.com/sunshineluyao/ESG/master/Stock_Data/SP1500_Aug.csv\")\n",
        "df_Aug.head()"
      ],
      "execution_count": null,
      "outputs": []
    },
    {
      "cell_type": "code",
      "metadata": {
        "id": "qCg_6_NJYrPW",
        "colab_type": "code",
        "colab": {}
      },
      "source": [
        "df_Aug=df_Aug.dropna()"
      ],
      "execution_count": null,
      "outputs": []
    },
    {
      "cell_type": "code",
      "metadata": {
        "id": "zWQ4yQVVNiQn",
        "colab_type": "code",
        "colab": {}
      },
      "source": [
        "df_Aug=df_Aug.set_index('Symbol',drop=True)\n",
        "df_Aug.head()"
      ],
      "execution_count": null,
      "outputs": []
    },
    {
      "cell_type": "code",
      "metadata": {
        "id": "QiO4jxtCNynF",
        "colab_type": "code",
        "colab": {}
      },
      "source": [
        "df_Aug.index.name=None\n",
        "df_Aug.head()"
      ],
      "execution_count": null,
      "outputs": []
    },
    {
      "cell_type": "code",
      "metadata": {
        "id": "DuNMbPTfC4Yw",
        "colab_type": "code",
        "colab": {}
      },
      "source": [
        "df_Aug_Price = df_Aug.iloc[:,8:-2:2]\n",
        "df_Aug_Price.head()"
      ],
      "execution_count": null,
      "outputs": []
    },
    {
      "cell_type": "code",
      "metadata": {
        "id": "Nlq2uc1hWIZz",
        "colab_type": "code",
        "colab": {}
      },
      "source": [
        "df_Aug_MarketValue = df_Aug.iloc[:,8:-2:2]\n",
        "df_Aug_MarketValue.head()"
      ],
      "execution_count": null,
      "outputs": []
    },
    {
      "cell_type": "code",
      "metadata": {
        "id": "kkrS1V7MNAji",
        "colab_type": "code",
        "colab": {}
      },
      "source": [
        "df_Aug_Price =df_Aug_Price.transpose()"
      ],
      "execution_count": null,
      "outputs": []
    },
    {
      "cell_type": "code",
      "metadata": {
        "id": "MLUM0smIWShT",
        "colab_type": "code",
        "colab": {}
      },
      "source": [
        "df_Aug_MarketValue = df_Aug_MarketValue.transpose()"
      ],
      "execution_count": null,
      "outputs": []
    },
    {
      "cell_type": "code",
      "metadata": {
        "id": "iHmuvHbsOrKV",
        "colab_type": "code",
        "colab": {}
      },
      "source": [
        "df_Aug_Price.head()"
      ],
      "execution_count": null,
      "outputs": []
    },
    {
      "cell_type": "code",
      "metadata": {
        "id": "XvZQvtLdWblF",
        "colab_type": "code",
        "colab": {}
      },
      "source": [
        "df_Aug_MarketValue.head()"
      ],
      "execution_count": null,
      "outputs": []
    },
    {
      "cell_type": "code",
      "metadata": {
        "id": "RcXJ7LZoOtdj",
        "colab_type": "code",
        "colab": {}
      },
      "source": [
        "df_Aug_Price['date']=pd.date_range(start='8/1/2020', end='9/1/2020',closed='left')\n",
        "df_Aug_Price.head()"
      ],
      "execution_count": null,
      "outputs": []
    },
    {
      "cell_type": "code",
      "metadata": {
        "id": "jx_Tu_YMWfMb",
        "colab_type": "code",
        "colab": {}
      },
      "source": [
        "df_Aug_MarketValue['date']=pd.date_range(start='5/1/2020', end='6/1/2020',closed='left')\n",
        "df_Aug_MarketValue.head()"
      ],
      "execution_count": null,
      "outputs": []
    },
    {
      "cell_type": "code",
      "metadata": {
        "id": "auqGHZjWPMFJ",
        "colab_type": "code",
        "colab": {}
      },
      "source": [
        "df_Aug_Price=df_Aug_Price.set_index('date',drop=True)\n",
        "df_Aug_Price.head()"
      ],
      "execution_count": null,
      "outputs": []
    },
    {
      "cell_type": "code",
      "metadata": {
        "id": "vlefzntnWqN4",
        "colab_type": "code",
        "colab": {}
      },
      "source": [
        "df_Aug_MarketValue=df_Aug_MarketValue.set_index('date',drop=True)\n",
        "df_Aug_MarketValue.head()"
      ],
      "execution_count": null,
      "outputs": []
    },
    {
      "cell_type": "code",
      "metadata": {
        "id": "4NnjeM4WP6xP",
        "colab_type": "code",
        "colab": {}
      },
      "source": [
        "df_Aug_Price.index.name=None\n",
        "df_Aug_Price.head()"
      ],
      "execution_count": null,
      "outputs": []
    },
    {
      "cell_type": "code",
      "metadata": {
        "id": "J15rYdI-ZC6O",
        "colab_type": "code",
        "colab": {}
      },
      "source": [
        "df_Aug_MarketValue.index.name=None\n",
        "df_Aug_MarketValue.head()"
      ],
      "execution_count": null,
      "outputs": []
    },
    {
      "cell_type": "code",
      "metadata": {
        "id": "SuHdIuhrQCP7",
        "colab_type": "code",
        "colab": {}
      },
      "source": [
        "df_Aug_Price.info()"
      ],
      "execution_count": null,
      "outputs": []
    },
    {
      "cell_type": "code",
      "metadata": {
        "id": "Joozc6g1ZHxa",
        "colab_type": "code",
        "colab": {}
      },
      "source": [
        "df_Aug_MarketValue.info()"
      ],
      "execution_count": null,
      "outputs": []
    },
    {
      "cell_type": "code",
      "metadata": {
        "id": "9CEZkt8mUD2M",
        "colab_type": "code",
        "colab": {}
      },
      "source": [
        "df_Aug_Price=df_Aug_Price.apply(lambda x: x.str.replace(',', ''), axis=1)"
      ],
      "execution_count": null,
      "outputs": []
    },
    {
      "cell_type": "code",
      "metadata": {
        "id": "ziJoAa3wZL2Y",
        "colab_type": "code",
        "colab": {}
      },
      "source": [
        "df_Aug_MarketValue=df_Aug_MarketValue.apply(lambda x: x.str.replace(',', ''), axis=1)"
      ],
      "execution_count": null,
      "outputs": []
    },
    {
      "cell_type": "code",
      "metadata": {
        "id": "ilrMFGMrQaVb",
        "colab_type": "code",
        "colab": {}
      },
      "source": [
        "df_Aug_Price = df_Aug_Price.astype('float')\n",
        "df_Aug_Price.info()"
      ],
      "execution_count": null,
      "outputs": []
    },
    {
      "cell_type": "code",
      "metadata": {
        "id": "9kyhKOcAZQrf",
        "colab_type": "code",
        "colab": {}
      },
      "source": [
        "df_Aug_MarketValue = df_Aug_MarketValue.astype('float')\n",
        "df_Aug_MarketValue.info()"
      ],
      "execution_count": null,
      "outputs": []
    },
    {
      "cell_type": "code",
      "metadata": {
        "id": "biQlqW3bVlCP",
        "colab_type": "code",
        "colab": {}
      },
      "source": [
        "df_Aug_Price.tail()"
      ],
      "execution_count": null,
      "outputs": []
    },
    {
      "cell_type": "code",
      "metadata": {
        "id": "vgUOJGLOZWQg",
        "colab_type": "code",
        "colab": {}
      },
      "source": [
        "df_Aug_MarketValue.tail()"
      ],
      "execution_count": null,
      "outputs": []
    },
    {
      "cell_type": "code",
      "metadata": {
        "id": "1qEMMGoAVsgM",
        "colab_type": "code",
        "colab": {}
      },
      "source": [
        "df_Aug_Price.to_csv('Price_Aug.csv')\n",
        "df_Aug_MarketValue.to_csv('MarketValue_Aug.csv')"
      ],
      "execution_count": null,
      "outputs": []
    },
    {
      "cell_type": "code",
      "metadata": {
        "id": "FLtYutlFZiIx",
        "colab_type": "code",
        "colab": {}
      },
      "source": [
        ""
      ],
      "execution_count": null,
      "outputs": []
    }
  ]
}