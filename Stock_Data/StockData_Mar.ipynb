{
  "nbformat": 4,
  "nbformat_minor": 0,
  "metadata": {
    "colab": {
      "name": "StockData_Mar.ipynb",
      "provenance": [],
      "private_outputs": true,
      "authorship_tag": "ABX9TyNRNQKCxO8l+xMSPjGxmtDA",
      "include_colab_link": true
    },
    "kernelspec": {
      "name": "python3",
      "display_name": "Python 3"
    }
  },
  "cells": [
    {
      "cell_type": "markdown",
      "metadata": {
        "id": "view-in-github",
        "colab_type": "text"
      },
      "source": [
        "<a href=\"https://colab.research.google.com/github/sunshineluyao/ESG/blob/master/Stock_Data/StockData_Mar.ipynb\" target=\"_parent\"><img src=\"https://colab.research.google.com/assets/colab-badge.svg\" alt=\"Open In Colab\"/></a>"
      ]
    },
    {
      "cell_type": "code",
      "metadata": {
        "id": "j0K-bZFWVc4a",
        "colab_type": "code",
        "colab": {}
      },
      "source": [
        "### import packages\n",
        "import pandas as pd\n",
        "import numpy as np\n",
        "### show all columns\n",
        "pd.set_option('display.max_columns', None)\n",
        "pd.set_option('display.max_rows', None)"
      ],
      "execution_count": null,
      "outputs": []
    },
    {
      "cell_type": "code",
      "metadata": {
        "id": "h3t1sy62Vkkq",
        "colab_type": "code",
        "colab": {}
      },
      "source": [
        "### Import data\n",
        "df_Mar= pd.read_csv(\"https://raw.githubusercontent.com/sunshineluyao/ESG/master/Stock_Data/SP1500_Mar.csv\")\n",
        "df_Mar.head()"
      ],
      "execution_count": null,
      "outputs": []
    },
    {
      "cell_type": "code",
      "metadata": {
        "id": "qCg_6_NJYrPW",
        "colab_type": "code",
        "colab": {}
      },
      "source": [
        "df_Mar=df_Mar.dropna()"
      ],
      "execution_count": null,
      "outputs": []
    },
    {
      "cell_type": "code",
      "metadata": {
        "id": "zWQ4yQVVNiQn",
        "colab_type": "code",
        "colab": {}
      },
      "source": [
        "df_Mar=df_Mar.set_index('Symbol',drop=True)\n",
        "df_Mar.head()"
      ],
      "execution_count": null,
      "outputs": []
    },
    {
      "cell_type": "code",
      "metadata": {
        "id": "QiO4jxtCNynF",
        "colab_type": "code",
        "colab": {}
      },
      "source": [
        "df_Mar.index.name=None\n",
        "df_Mar.head()"
      ],
      "execution_count": null,
      "outputs": []
    },
    {
      "cell_type": "code",
      "metadata": {
        "id": "DuNMbPTfC4Yw",
        "colab_type": "code",
        "colab": {}
      },
      "source": [
        "df_Mar_Price = df_Mar.iloc[:,9:-2:2]\n",
        "df_Mar_Price.head()"
      ],
      "execution_count": null,
      "outputs": []
    },
    {
      "cell_type": "code",
      "metadata": {
        "id": "Nlq2uc1hWIZz",
        "colab_type": "code",
        "colab": {}
      },
      "source": [
        "df_Mar_MarketValue = df_Mar.iloc[:,8:-3:2]\n",
        "df_Mar_MarketValue.head()"
      ],
      "execution_count": null,
      "outputs": []
    },
    {
      "cell_type": "code",
      "metadata": {
        "id": "kkrS1V7MNAji",
        "colab_type": "code",
        "colab": {}
      },
      "source": [
        "df_Mar_Price =df_Mar_Price.transpose()"
      ],
      "execution_count": null,
      "outputs": []
    },
    {
      "cell_type": "code",
      "metadata": {
        "id": "MLUM0smIWShT",
        "colab_type": "code",
        "colab": {}
      },
      "source": [
        "df_Mar_MarketValue = df_Mar_MarketValue.transpose()"
      ],
      "execution_count": null,
      "outputs": []
    },
    {
      "cell_type": "code",
      "metadata": {
        "id": "iHmuvHbsOrKV",
        "colab_type": "code",
        "colab": {}
      },
      "source": [
        "df_Mar_Price.head()"
      ],
      "execution_count": null,
      "outputs": []
    },
    {
      "cell_type": "code",
      "metadata": {
        "id": "XvZQvtLdWblF",
        "colab_type": "code",
        "colab": {}
      },
      "source": [
        "df_Mar_MarketValue.head()"
      ],
      "execution_count": null,
      "outputs": []
    },
    {
      "cell_type": "code",
      "metadata": {
        "id": "RcXJ7LZoOtdj",
        "colab_type": "code",
        "colab": {}
      },
      "source": [
        "df_Mar_Price['date']=pd.date_range(start='3/1/2020', end='4/1/2020',closed='left')\n",
        "df_Mar_Price.head()"
      ],
      "execution_count": null,
      "outputs": []
    },
    {
      "cell_type": "code",
      "metadata": {
        "id": "jx_Tu_YMWfMb",
        "colab_type": "code",
        "colab": {}
      },
      "source": [
        "df_Mar_MarketValue['date']=pd.date_range(start='3/1/2020', end='4/1/2020',closed='left')\n",
        "df_Mar_MarketValue.head()"
      ],
      "execution_count": null,
      "outputs": []
    },
    {
      "cell_type": "code",
      "metadata": {
        "id": "auqGHZjWPMFJ",
        "colab_type": "code",
        "colab": {}
      },
      "source": [
        "df_Mar_Price=df_Mar_Price.set_index('date',drop=True)\n",
        "df_Mar_Price.head()"
      ],
      "execution_count": null,
      "outputs": []
    },
    {
      "cell_type": "code",
      "metadata": {
        "id": "vlefzntnWqN4",
        "colab_type": "code",
        "colab": {}
      },
      "source": [
        "df_Mar_MarketValue=df_Mar_MarketValue.set_index('date',drop=True)\n",
        "df_Mar_MarketValue.head()"
      ],
      "execution_count": null,
      "outputs": []
    },
    {
      "cell_type": "code",
      "metadata": {
        "id": "4NnjeM4WP6xP",
        "colab_type": "code",
        "colab": {}
      },
      "source": [
        "df_Mar_Price.index.name=None\n",
        "df_Mar_Price.head()"
      ],
      "execution_count": null,
      "outputs": []
    },
    {
      "cell_type": "code",
      "metadata": {
        "id": "J15rYdI-ZC6O",
        "colab_type": "code",
        "colab": {}
      },
      "source": [
        "df_Mar_MarketValue.index.name=None\n",
        "df_Mar_MarketValue.head()"
      ],
      "execution_count": null,
      "outputs": []
    },
    {
      "cell_type": "code",
      "metadata": {
        "id": "SuHdIuhrQCP7",
        "colab_type": "code",
        "colab": {}
      },
      "source": [
        "df_Mar_Price.info()"
      ],
      "execution_count": null,
      "outputs": []
    },
    {
      "cell_type": "code",
      "metadata": {
        "id": "Joozc6g1ZHxa",
        "colab_type": "code",
        "colab": {}
      },
      "source": [
        "df_Mar_MarketValue.info()"
      ],
      "execution_count": null,
      "outputs": []
    },
    {
      "cell_type": "code",
      "metadata": {
        "id": "9CEZkt8mUD2M",
        "colab_type": "code",
        "colab": {}
      },
      "source": [
        "df_Mar_Price=df_Mar_Price.apply(lambda x: x.str.replace(',', ''), axis=1)"
      ],
      "execution_count": null,
      "outputs": []
    },
    {
      "cell_type": "code",
      "metadata": {
        "id": "ziJoAa3wZL2Y",
        "colab_type": "code",
        "colab": {}
      },
      "source": [
        "df_Mar_MarketValue=df_Mar_MarketValue.apply(lambda x: x.str.replace(',', ''), axis=1)"
      ],
      "execution_count": null,
      "outputs": []
    },
    {
      "cell_type": "code",
      "metadata": {
        "id": "ilrMFGMrQaVb",
        "colab_type": "code",
        "colab": {}
      },
      "source": [
        "df_Mar_Price = df_Mar_Price.astype('float')\n",
        "df_Mar_Price.info()"
      ],
      "execution_count": null,
      "outputs": []
    },
    {
      "cell_type": "code",
      "metadata": {
        "id": "9kyhKOcAZQrf",
        "colab_type": "code",
        "colab": {}
      },
      "source": [
        "df_Mar_MarketValue = df_Mar_MarketValue.astype('float')\n",
        "df_Mar_MarketValue.info()"
      ],
      "execution_count": null,
      "outputs": []
    },
    {
      "cell_type": "code",
      "metadata": {
        "id": "biQlqW3bVlCP",
        "colab_type": "code",
        "colab": {}
      },
      "source": [
        "df_Mar_Price.tail()"
      ],
      "execution_count": null,
      "outputs": []
    },
    {
      "cell_type": "code",
      "metadata": {
        "id": "vgUOJGLOZWQg",
        "colab_type": "code",
        "colab": {}
      },
      "source": [
        "df_Mar_MarketValue.tail()"
      ],
      "execution_count": null,
      "outputs": []
    },
    {
      "cell_type": "code",
      "metadata": {
        "id": "1qEMMGoAVsgM",
        "colab_type": "code",
        "colab": {}
      },
      "source": [
        "df_Mar_Price.to_csv('Price_Mar.csv')\n",
        "df_Mar_MarketValue.to_csv('MarketValue_Mar.csv')"
      ],
      "execution_count": null,
      "outputs": []
    },
    {
      "cell_type": "code",
      "metadata": {
        "id": "FLtYutlFZiIx",
        "colab_type": "code",
        "colab": {}
      },
      "source": [
        ""
      ],
      "execution_count": null,
      "outputs": []
    }
  ]
}