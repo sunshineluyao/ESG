{
  "nbformat": 4,
  "nbformat_minor": 0,
  "metadata": {
    "colab": {
      "name": "StockData_Basics.ipynb",
      "provenance": [],
      "private_outputs": true,
      "authorship_tag": "ABX9TyN2fxOsm3zB3wziicMgoH4U",
      "include_colab_link": true
    },
    "kernelspec": {
      "name": "python3",
      "display_name": "Python 3"
    }
  },
  "cells": [
    {
      "cell_type": "markdown",
      "metadata": {
        "id": "view-in-github",
        "colab_type": "text"
      },
      "source": [
        "<a href=\"https://colab.research.google.com/github/sunshineluyao/ESG/blob/master/Stock_Data/StockData_Basics.ipynb\" target=\"_parent\"><img src=\"https://colab.research.google.com/assets/colab-badge.svg\" alt=\"Open In Colab\"/></a>"
      ]
    },
    {
      "cell_type": "markdown",
      "metadata": {
        "id": "KgGuxejOVDrN",
        "colab_type": "text"
      },
      "source": [
        "**step 1: import data**"
      ]
    },
    {
      "cell_type": "code",
      "metadata": {
        "id": "j0K-bZFWVc4a",
        "colab_type": "code",
        "colab": {}
      },
      "source": [
        "### import packages\n",
        "import pandas as pd\n",
        "import numpy as np\n",
        "### show all columns\n",
        "pd.set_option('display.max_columns', None)\n",
        "pd.set_option('display.max_rows', None)"
      ],
      "execution_count": null,
      "outputs": []
    },
    {
      "cell_type": "code",
      "metadata": {
        "id": "h3t1sy62Vkkq",
        "colab_type": "code",
        "colab": {}
      },
      "source": [
        "### Import data\n",
        "df_Jan= pd.read_csv(\"https://raw.githubusercontent.com/sunshineluyao/ESG/master/Stock_Data/SP1500_Jan.csv\")\n",
        "df_Jan.head()"
      ],
      "execution_count": null,
      "outputs": []
    },
    {
      "cell_type": "code",
      "metadata": {
        "id": "UJPjv-3E2z_X",
        "colab_type": "code",
        "colab": {}
      },
      "source": [
        "df_agg = df_Jan.iloc[:,0:9]\n",
        "df_agg.head()"
      ],
      "execution_count": null,
      "outputs": []
    },
    {
      "cell_type": "markdown",
      "metadata": {
        "id": "oqeM0OzGoU7e",
        "colab_type": "text"
      },
      "source": [
        "**Step 2: Visualization Using Plotly Express**"
      ]
    },
    {
      "cell_type": "code",
      "metadata": {
        "id": "916Tda5ODyVS",
        "colab_type": "code",
        "colab": {}
      },
      "source": [
        "### Import Relevant Packages\n",
        "import plotly.express as px\n",
        "### View Plotly Themes\n",
        "import plotly.io as pio\n",
        "pio.templates ###https://plotly.com/python/templates/"
      ],
      "execution_count": null,
      "outputs": []
    },
    {
      "cell_type": "code",
      "metadata": {
        "id": "VH5PcHSKr5p-",
        "colab_type": "code",
        "colab": {}
      },
      "source": [
        "fig_E = px.histogram(df_agg, x=\"MSCI ESG Rtg Score Environmental\", marginal=\"box\", color='RBICS Economy',\n",
        "                   title=\"Histogram for MSCI ESG Rtg Score Environmental by RBICS Economy\", template='plotly_white')\n",
        "fig_E.show()"
      ],
      "execution_count": null,
      "outputs": []
    },
    {
      "cell_type": "code",
      "metadata": {
        "id": "DK8XTk1Qr0jp",
        "colab_type": "code",
        "colab": {}
      },
      "source": [
        "fig_S = px.histogram(df_agg, x=\"MSCI ESG Rtg Score Social\", marginal=\"box\", color='RBICS Economy',\n",
        "                   title=\"Histogram for MSCI ESG Rtg Score Social by RBICS Economy\", template='plotly_white')\n",
        "fig_S.show()"
      ],
      "execution_count": null,
      "outputs": []
    },
    {
      "cell_type": "code",
      "metadata": {
        "id": "HEM_cfGBvD2h",
        "colab_type": "code",
        "colab": {}
      },
      "source": [
        "fig_G = px.histogram(df_agg, x=\"MSCI ESG Rtg Score Governance\", marginal=\"box\", color='RBICS Economy',\n",
        "                   title=\"Histogram for MSCI ESG Rtg Score Governance by RBICS Economy\", template='plotly_white')\n",
        "fig_G.show()"
      ],
      "execution_count": null,
      "outputs": []
    },
    {
      "cell_type": "code",
      "metadata": {
        "id": "yF4sVb3svko1",
        "colab_type": "code",
        "colab": {}
      },
      "source": [
        "fig_Sales = px.violin(df_agg, y=\"Sales\",color='RBICS Economy', \n",
        "                   title='Violin Plot for Sales by RBICS Economy')\n",
        "fig_Sales.show()"
      ],
      "execution_count": null,
      "outputs": []
    },
    {
      "cell_type": "code",
      "metadata": {
        "id": "mRtqkssbwF05",
        "colab_type": "code",
        "colab": {}
      },
      "source": [
        "df_exchange=df_agg.groupby(['Stock Exchange']).size().reset_index(name='counts')\n",
        "df_exchange"
      ],
      "execution_count": null,
      "outputs": []
    },
    {
      "cell_type": "code",
      "metadata": {
        "id": "ZgDFkMJ4yIga",
        "colab_type": "code",
        "colab": {}
      },
      "source": [
        "fig_Exchange = px.bar(df_exchange, x=\"counts\", y=\"Stock Exchange\", orientation='h')\n",
        "fig_Exchange.show()"
      ],
      "execution_count": null,
      "outputs": []
    },
    {
      "cell_type": "code",
      "metadata": {
        "id": "rgziEw3Vy2Jt",
        "colab_type": "code",
        "colab": {}
      },
      "source": [
        "df_RBICS=df_agg.groupby(['RBICS Economy']).size().reset_index(name='counts')\n",
        "df_RBICS"
      ],
      "execution_count": null,
      "outputs": []
    },
    {
      "cell_type": "code",
      "metadata": {
        "id": "mdAwJqY4zLn_",
        "colab_type": "code",
        "colab": {}
      },
      "source": [
        "fig_RBICS = px.bar(df_RBICS, x=\"counts\", y=\"RBICS Economy\", orientation='h')\n",
        "fig_RBICS.show()"
      ],
      "execution_count": null,
      "outputs": []
    },
    {
      "cell_type": "code",
      "metadata": {
        "id": "xpI3jo26zSKI",
        "colab_type": "code",
        "colab": {}
      },
      "source": [
        "df_ESG=df_agg.groupby(['MSCI ESG Rtg Overall Company Rating']).size().reset_index(name='counts')\n",
        "df_ESG"
      ],
      "execution_count": null,
      "outputs": []
    },
    {
      "cell_type": "code",
      "metadata": {
        "id": "IjqeF3P7zgAt",
        "colab_type": "code",
        "colab": {}
      },
      "source": [
        "fig_ESG = px.bar(df_ESG, x=\"counts\", y=\"MSCI ESG Rtg Overall Company Rating\", orientation='h')\n",
        "fig_ESG.show()"
      ],
      "execution_count": null,
      "outputs": []
    },
    {
      "cell_type": "markdown",
      "metadata": {
        "id": "qnzhLf5W1CpQ",
        "colab_type": "text"
      },
      "source": [
        "**Step 3: Upload the visualization to Plotly Chart Studio**"
      ]
    },
    {
      "cell_type": "code",
      "metadata": {
        "id": "Ww-er5rb0HjA",
        "colab_type": "code",
        "colab": {}
      },
      "source": [
        "### Install Chart Studio\n",
        "!pip install chart_studio"
      ],
      "execution_count": null,
      "outputs": []
    },
    {
      "cell_type": "markdown",
      "metadata": {
        "id": "7lh4Pv6p299Y",
        "colab_type": "text"
      },
      "source": [
        "Note: log into your Plotly chart studio and replace username and api_key with your own chart studio information. https://chart-studio.plotly.com/settings/api (Note: log into plotly chart studio; Go to settings; Go to API)\n",
        "\n",
        "Please Replace with your own username and api wherever it says \"replace here\""
      ]
    },
    {
      "cell_type": "code",
      "metadata": {
        "id": "zVDQhpXa24PQ",
        "colab_type": "code",
        "colab": {}
      },
      "source": [
        "import chart_studio\n",
        "username = 'replace here'\n",
        "api_key = 'replace here'\n",
        "import chart_studio.plotly as py\n",
        "import chart_studio.tools as tls"
      ],
      "execution_count": null,
      "outputs": []
    },
    {
      "cell_type": "code",
      "metadata": {
        "id": "1h1vkHCx3G-t",
        "colab_type": "code",
        "colab": {}
      },
      "source": [
        "chart_studio.tools.set_credentials_file(username='replace here', api_key='replace here')"
      ],
      "execution_count": null,
      "outputs": []
    },
    {
      "cell_type": "code",
      "metadata": {
        "id": "RpN0ADke3OoL",
        "colab_type": "code",
        "colab": {}
      },
      "source": [
        "py.plot(fig_E,filename = 'ESG_E',auto_open=False)"
      ],
      "execution_count": null,
      "outputs": []
    },
    {
      "cell_type": "code",
      "metadata": {
        "id": "2OVi5Lte3gVB",
        "colab_type": "code",
        "colab": {}
      },
      "source": [
        "py.plot(fig_S,filename = 'ESG_S',auto_open=False)"
      ],
      "execution_count": null,
      "outputs": []
    },
    {
      "cell_type": "code",
      "metadata": {
        "id": "XNYjDNQN3vmJ",
        "colab_type": "code",
        "colab": {}
      },
      "source": [
        "py.plot(fig_G,filename = 'ESG_G',auto_open=False)"
      ],
      "execution_count": null,
      "outputs": []
    },
    {
      "cell_type": "code",
      "metadata": {
        "id": "DbMBHUKu39sr",
        "colab_type": "code",
        "colab": {}
      },
      "source": [
        "py.plot(fig_Sales,filename = 'ESG_Sales',auto_open=False)"
      ],
      "execution_count": null,
      "outputs": []
    },
    {
      "cell_type": "code",
      "metadata": {
        "id": "kfDnLNQj4MKf",
        "colab_type": "code",
        "colab": {}
      },
      "source": [
        "py.plot(fig_Exchange,filename = 'ESG_Exchange',auto_open=False)"
      ],
      "execution_count": null,
      "outputs": []
    },
    {
      "cell_type": "code",
      "metadata": {
        "id": "zOdz6hBI4Qbd",
        "colab_type": "code",
        "colab": {}
      },
      "source": [
        "py.plot(fig_RBICS,filename = 'ESG RBICS',auto_open=False)"
      ],
      "execution_count": null,
      "outputs": []
    },
    {
      "cell_type": "code",
      "metadata": {
        "id": "W-PJCTK04css",
        "colab_type": "code",
        "colab": {}
      },
      "source": [
        "py.plot(fig_ESG,filename = 'ESG ESG',auto_open=False)"
      ],
      "execution_count": null,
      "outputs": []
    },
    {
      "cell_type": "code",
      "metadata": {
        "id": "DuNMbPTfC4Yw",
        "colab_type": "code",
        "colab": {}
      },
      "source": [
        ""
      ],
      "execution_count": null,
      "outputs": []
    }
  ]
}