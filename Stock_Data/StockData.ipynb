{
  "nbformat": 4,
  "nbformat_minor": 0,
  "metadata": {
    "colab": {
      "name": "StockData.ipynb",
      "provenance": [],
      "private_outputs": true,
      "authorship_tag": "ABX9TyPLMHwzMXZ7lN0x8GbFYkT6",
      "include_colab_link": true
    },
    "kernelspec": {
      "name": "python3",
      "display_name": "Python 3"
    }
  },
  "cells": [
    {
      "cell_type": "markdown",
      "metadata": {
        "id": "view-in-github",
        "colab_type": "text"
      },
      "source": [
        "<a href=\"https://colab.research.google.com/github/sunshineluyao/ESG/blob/master/Stock_Data/StockData.ipynb\" target=\"_parent\"><img src=\"https://colab.research.google.com/assets/colab-badge.svg\" alt=\"Open In Colab\"/></a>"
      ]
    },
    {
      "cell_type": "markdown",
      "metadata": {
        "id": "KgGuxejOVDrN",
        "colab_type": "text"
      },
      "source": [
        "**step 1: import data**"
      ]
    },
    {
      "cell_type": "code",
      "metadata": {
        "id": "j0K-bZFWVc4a",
        "colab_type": "code",
        "colab": {}
      },
      "source": [
        "### import packages\n",
        "import pandas as pd\n",
        "import numpy as np\n",
        "### show all columns\n",
        "pd.set_option('display.max_columns', None)\n",
        "pd.set_option('display.max_rows', None)"
      ],
      "execution_count": null,
      "outputs": []
    },
    {
      "cell_type": "code",
      "metadata": {
        "id": "h3t1sy62Vkkq",
        "colab_type": "code",
        "colab": {}
      },
      "source": [
        "### Import data\n",
        "df_Jan= pd.read_csv(\"https://raw.githubusercontent.com/sunshineluyao/ESG/master/Stock_Data/SP1500_Jan.csv\")\n",
        "df_Jan.head()"
      ],
      "execution_count": null,
      "outputs": []
    },
    {
      "cell_type": "code",
      "metadata": {
        "id": "UJPjv-3E2z_X",
        "colab_type": "code",
        "colab": {}
      },
      "source": [
        "df_agg = df_Jan.iloc[:,0:9]\n",
        "df_agg.head()"
      ],
      "execution_count": null,
      "outputs": []
    },
    {
      "cell_type": "code",
      "metadata": {
        "id": "916Tda5ODyVS",
        "colab_type": "code",
        "colab": {}
      },
      "source": [
        ""
      ],
      "execution_count": null,
      "outputs": []
    }
  ]
}