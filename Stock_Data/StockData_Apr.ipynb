{
  "nbformat": 4,
  "nbformat_minor": 0,
  "metadata": {
    "colab": {
      "name": "StockData_Apr.ipynb",
      "provenance": [],
      "private_outputs": true,
      "authorship_tag": "ABX9TyNUlelBOSZWwRPplzKO3k0a",
      "include_colab_link": true
    },
    "kernelspec": {
      "name": "python3",
      "display_name": "Python 3"
    }
  },
  "cells": [
    {
      "cell_type": "markdown",
      "metadata": {
        "id": "view-in-github",
        "colab_type": "text"
      },
      "source": [
        "<a href=\"https://colab.research.google.com/github/sunshineluyao/ESG/blob/master/Stock_Data/StockData_Apr.ipynb\" target=\"_parent\"><img src=\"https://colab.research.google.com/assets/colab-badge.svg\" alt=\"Open In Colab\"/></a>"
      ]
    },
    {
      "cell_type": "code",
      "metadata": {
        "id": "j0K-bZFWVc4a",
        "colab_type": "code",
        "colab": {}
      },
      "source": [
        "### import packages\n",
        "import pandas as pd\n",
        "import numpy as np\n",
        "### show all columns\n",
        "pd.set_option('display.max_columns', None)\n",
        "pd.set_option('display.max_rows', None)"
      ],
      "execution_count": null,
      "outputs": []
    },
    {
      "cell_type": "code",
      "metadata": {
        "id": "h3t1sy62Vkkq",
        "colab_type": "code",
        "colab": {}
      },
      "source": [
        "### Import data\n",
        "df_Apr= pd.read_csv(\"https://raw.githubusercontent.com/sunshineluyao/ESG/master/Stock_Data/SP1500_Apr.csv\")\n",
        "df_Apr.head()"
      ],
      "execution_count": null,
      "outputs": []
    },
    {
      "cell_type": "code",
      "metadata": {
        "id": "qCg_6_NJYrPW",
        "colab_type": "code",
        "colab": {}
      },
      "source": [
        "df_Apr=df_Apr.dropna()"
      ],
      "execution_count": null,
      "outputs": []
    },
    {
      "cell_type": "code",
      "metadata": {
        "id": "zWQ4yQVVNiQn",
        "colab_type": "code",
        "colab": {}
      },
      "source": [
        "df_Apr=df_Apr.set_index('Symbol',drop=True)\n",
        "df_Apr.head()"
      ],
      "execution_count": null,
      "outputs": []
    },
    {
      "cell_type": "code",
      "metadata": {
        "id": "QiO4jxtCNynF",
        "colab_type": "code",
        "colab": {}
      },
      "source": [
        "df_Apr.index.name=None\n",
        "df_Apr.head()"
      ],
      "execution_count": null,
      "outputs": []
    },
    {
      "cell_type": "code",
      "metadata": {
        "id": "DuNMbPTfC4Yw",
        "colab_type": "code",
        "colab": {}
      },
      "source": [
        "df_Apr_Price = df_Apr.iloc[:,9:-2:2]\n",
        "df_Apr_Price.head()"
      ],
      "execution_count": null,
      "outputs": []
    },
    {
      "cell_type": "code",
      "metadata": {
        "id": "Nlq2uc1hWIZz",
        "colab_type": "code",
        "colab": {}
      },
      "source": [
        "df_Apr_MarketValue = df_Apr.iloc[:,8:-3:2]\n",
        "df_Apr_MarketValue.head()"
      ],
      "execution_count": null,
      "outputs": []
    },
    {
      "cell_type": "code",
      "metadata": {
        "id": "kkrS1V7MNAji",
        "colab_type": "code",
        "colab": {}
      },
      "source": [
        "df_Apr_Price =df_Apr_Price.transpose()"
      ],
      "execution_count": null,
      "outputs": []
    },
    {
      "cell_type": "code",
      "metadata": {
        "id": "MLUM0smIWShT",
        "colab_type": "code",
        "colab": {}
      },
      "source": [
        "df_Apr_MarketValue = df_Apr_MarketValue.transpose()"
      ],
      "execution_count": null,
      "outputs": []
    },
    {
      "cell_type": "code",
      "metadata": {
        "id": "iHmuvHbsOrKV",
        "colab_type": "code",
        "colab": {}
      },
      "source": [
        "df_Apr_Price.head()"
      ],
      "execution_count": null,
      "outputs": []
    },
    {
      "cell_type": "code",
      "metadata": {
        "id": "XvZQvtLdWblF",
        "colab_type": "code",
        "colab": {}
      },
      "source": [
        "df_Apr_MarketValue.head()"
      ],
      "execution_count": null,
      "outputs": []
    },
    {
      "cell_type": "code",
      "metadata": {
        "id": "RcXJ7LZoOtdj",
        "colab_type": "code",
        "colab": {}
      },
      "source": [
        "df_Apr_Price['date']=pd.date_range(start='4/1/2020', end='5/1/2020',closed='left')\n",
        "df_Apr_Price.head()"
      ],
      "execution_count": null,
      "outputs": []
    },
    {
      "cell_type": "code",
      "metadata": {
        "id": "jx_Tu_YMWfMb",
        "colab_type": "code",
        "colab": {}
      },
      "source": [
        "df_Apr_MarketValue['date']=pd.date_range(start='4/1/2020', end='5/1/2020',closed='left')\n",
        "df_Apr_MarketValue.head()"
      ],
      "execution_count": null,
      "outputs": []
    },
    {
      "cell_type": "code",
      "metadata": {
        "id": "auqGHZjWPMFJ",
        "colab_type": "code",
        "colab": {}
      },
      "source": [
        "df_Apr_Price=df_Apr_Price.set_index('date',drop=True)\n",
        "df_Apr_Price.head()"
      ],
      "execution_count": null,
      "outputs": []
    },
    {
      "cell_type": "code",
      "metadata": {
        "id": "vlefzntnWqN4",
        "colab_type": "code",
        "colab": {}
      },
      "source": [
        "df_Apr_MarketValue=df_Apr_MarketValue.set_index('date',drop=True)\n",
        "df_Apr_MarketValue.head()"
      ],
      "execution_count": null,
      "outputs": []
    },
    {
      "cell_type": "code",
      "metadata": {
        "id": "4NnjeM4WP6xP",
        "colab_type": "code",
        "colab": {}
      },
      "source": [
        "df_Apr_Price.index.name=None\n",
        "df_Apr_Price.head()"
      ],
      "execution_count": null,
      "outputs": []
    },
    {
      "cell_type": "code",
      "metadata": {
        "id": "J15rYdI-ZC6O",
        "colab_type": "code",
        "colab": {}
      },
      "source": [
        "df_Apr_MarketValue.index.name=None\n",
        "df_Apr_MarketValue.head()"
      ],
      "execution_count": null,
      "outputs": []
    },
    {
      "cell_type": "code",
      "metadata": {
        "id": "SuHdIuhrQCP7",
        "colab_type": "code",
        "colab": {}
      },
      "source": [
        "df_Apr_Price.info()"
      ],
      "execution_count": null,
      "outputs": []
    },
    {
      "cell_type": "code",
      "metadata": {
        "id": "Joozc6g1ZHxa",
        "colab_type": "code",
        "colab": {}
      },
      "source": [
        "df_Apr_MarketValue.info()"
      ],
      "execution_count": null,
      "outputs": []
    },
    {
      "cell_type": "code",
      "metadata": {
        "id": "9CEZkt8mUD2M",
        "colab_type": "code",
        "colab": {}
      },
      "source": [
        "df_Apr_Price=df_Apr_Price.apply(lambda x: x.str.replace(',', ''), axis=1)"
      ],
      "execution_count": null,
      "outputs": []
    },
    {
      "cell_type": "code",
      "metadata": {
        "id": "ziJoAa3wZL2Y",
        "colab_type": "code",
        "colab": {}
      },
      "source": [
        "df_Apr_MarketValue=df_Apr_MarketValue.apply(lambda x: x.str.replace(',', ''), axis=1)"
      ],
      "execution_count": null,
      "outputs": []
    },
    {
      "cell_type": "code",
      "metadata": {
        "id": "ilrMFGMrQaVb",
        "colab_type": "code",
        "colab": {}
      },
      "source": [
        "df_Apr_Price = df_Apr_Price.astype('float')\n",
        "df_Apr_Price.info()"
      ],
      "execution_count": null,
      "outputs": []
    },
    {
      "cell_type": "code",
      "metadata": {
        "id": "9kyhKOcAZQrf",
        "colab_type": "code",
        "colab": {}
      },
      "source": [
        "df_Apr_MarketValue = df_Apr_MarketValue.astype('float')\n",
        "df_Apr_MarketValue.info()"
      ],
      "execution_count": null,
      "outputs": []
    },
    {
      "cell_type": "code",
      "metadata": {
        "id": "biQlqW3bVlCP",
        "colab_type": "code",
        "colab": {}
      },
      "source": [
        "df_Apr_Price.tail()"
      ],
      "execution_count": null,
      "outputs": []
    },
    {
      "cell_type": "code",
      "metadata": {
        "id": "vgUOJGLOZWQg",
        "colab_type": "code",
        "colab": {}
      },
      "source": [
        "df_Apr_MarketValue.tail()"
      ],
      "execution_count": null,
      "outputs": []
    },
    {
      "cell_type": "code",
      "metadata": {
        "id": "1qEMMGoAVsgM",
        "colab_type": "code",
        "colab": {}
      },
      "source": [
        "df_Apr_Price.to_csv('Price_Apr.csv')\n",
        "df_Apr_MarketValue.to_csv('MarketValue_Apr.csv')"
      ],
      "execution_count": null,
      "outputs": []
    },
    {
      "cell_type": "code",
      "metadata": {
        "id": "FLtYutlFZiIx",
        "colab_type": "code",
        "colab": {}
      },
      "source": [
        ""
      ],
      "execution_count": null,
      "outputs": []
    }
  ]
}