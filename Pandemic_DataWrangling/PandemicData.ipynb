{
  "nbformat": 4,
  "nbformat_minor": 0,
  "metadata": {
    "colab": {
      "name": "PandemicData.ipynb",
      "provenance": [],
      "private_outputs": true,
      "authorship_tag": "ABX9TyP6PbufBQY6lyx2IN24TYY9",
      "include_colab_link": true
    },
    "kernelspec": {
      "name": "python3",
      "display_name": "Python 3"
    }
  },
  "cells": [
    {
      "cell_type": "markdown",
      "metadata": {
        "id": "view-in-github",
        "colab_type": "text"
      },
      "source": [
        "<a href=\"https://colab.research.google.com/github/sunshineluyao/ESG/blob/master/Pandemic_DataWrangling/PandemicData.ipynb\" target=\"_parent\"><img src=\"https://colab.research.google.com/assets/colab-badge.svg\" alt=\"Open In Colab\"/></a>"
      ]
    },
    {
      "cell_type": "markdown",
      "metadata": {
        "id": "rWAXDhfypz4a",
        "colab_type": "text"
      },
      "source": [
        "**Step 1**: Import Data from https://github.com/owid/covid-19-data/tree/master/public/data/who"
      ]
    },
    {
      "cell_type": "code",
      "metadata": {
        "id": "AeAkId9Bou9b",
        "colab_type": "code",
        "colab": {}
      },
      "source": [
        "### import packages\n",
        "import pandas as pd\n",
        "import numpy as np\n",
        "### show all columns\n",
        "pd.set_option('display.max_columns', None)\n",
        "pd.set_option('display.max_rows', None)"
      ],
      "execution_count": null,
      "outputs": []
    },
    {
      "cell_type": "code",
      "metadata": {
        "id": "Np6UwaTzrD0s",
        "colab_type": "code",
        "colab": {}
      },
      "source": [
        "## Import data\n",
        "df_OWID= pd.read_csv(\"https://raw.githubusercontent.com/owid/covid-19-data/master/public/data/owid-covid-data.csv\")\n",
        "df_OWID.head()"
      ],
      "execution_count": null,
      "outputs": []
    },
    {
      "cell_type": "code",
      "metadata": {
        "id": "-ERcuq5iSyiB",
        "colab_type": "code",
        "colab": {}
      },
      "source": [
        "df_OWID.dtypes"
      ],
      "execution_count": null,
      "outputs": []
    },
    {
      "cell_type": "code",
      "metadata": {
        "id": "C7aFFUVSS1x2",
        "colab_type": "code",
        "colab": {}
      },
      "source": [
        "df_OWID=df_OWID.sort_values(by='date', ascending=True)\n",
        "df_OWID.head()"
      ],
      "execution_count": null,
      "outputs": []
    },
    {
      "cell_type": "markdown",
      "metadata": {
        "id": "V1CVczQ_sJPv",
        "colab_type": "text"
      },
      "source": [
        "**Step 2**: Data Wranging"
      ]
    },
    {
      "cell_type": "code",
      "metadata": {
        "id": "eRC1cqair_CY",
        "colab_type": "code",
        "colab": {}
      },
      "source": [
        "### get all country values\n",
        "country_values=df_OWID['location'].values.ravel()\n",
        "country=pd.unique(country_values)\n",
        "country"
      ],
      "execution_count": null,
      "outputs": []
    },
    {
      "cell_type": "code",
      "metadata": {
        "id": "r31NDKvHsPSO",
        "colab_type": "code",
        "colab": {}
      },
      "source": [
        "### Get USA Data\n",
        "df_USA=df_OWID[df_OWID['location']=='United States']\n",
        "df_USA.head()"
      ],
      "execution_count": null,
      "outputs": []
    },
    {
      "cell_type": "code",
      "metadata": {
        "id": "JnYHaaPYvGYK",
        "colab_type": "code",
        "colab": {}
      },
      "source": [
        "df_USA.set_index('date', inplace = True) \n",
        "df_USA.head()"
      ],
      "execution_count": null,
      "outputs": []
    },
    {
      "cell_type": "code",
      "metadata": {
        "id": "9CMm8YPqwxxW",
        "colab_type": "code",
        "colab": {}
      },
      "source": [
        "df_USA.index.name=None\n",
        "df_USA.head()"
      ],
      "execution_count": null,
      "outputs": []
    },
    {
      "cell_type": "code",
      "metadata": {
        "id": "zoLE9C_pxBx-",
        "colab_type": "code",
        "colab": {}
      },
      "source": [
        "# set the index to datetime format\n",
        "df_USA.index=pd.to_datetime(df_USA.index)"
      ],
      "execution_count": null,
      "outputs": []
    },
    {
      "cell_type": "code",
      "metadata": {
        "id": "l9Px6z8ExaGt",
        "colab_type": "code",
        "colab": {}
      },
      "source": [
        "### Get World Data\n",
        "df_World=df_OWID[df_OWID['location']=='World']\n",
        "df_World.head()"
      ],
      "execution_count": null,
      "outputs": []
    },
    {
      "cell_type": "code",
      "metadata": {
        "id": "ara_4zRsyfIo",
        "colab_type": "code",
        "colab": {}
      },
      "source": [
        "df_World.set_index('date', inplace = True) "
      ],
      "execution_count": null,
      "outputs": []
    },
    {
      "cell_type": "code",
      "metadata": {
        "id": "gHfsBxAoyrkZ",
        "colab_type": "code",
        "colab": {}
      },
      "source": [
        "df_World.index.name=None\n",
        "df_World.index=pd.to_datetime(df_World.index)\n",
        "df_World.head()"
      ],
      "execution_count": null,
      "outputs": []
    },
    {
      "cell_type": "code",
      "metadata": {
        "id": "dYScB0fZzN6g",
        "colab_type": "code",
        "colab": {}
      },
      "source": [
        "### Save USA and World Data\n",
        "df_USA.to_csv('Pandemic_USA.csv')\n",
        "df_World.to_csv('Pandemic_World.csv')"
      ],
      "execution_count": null,
      "outputs": []
    },
    {
      "cell_type": "markdown",
      "metadata": {
        "id": "9lMCPrZp0m7d",
        "colab_type": "text"
      },
      "source": [
        "**Step 3**: World Interactive Map Visualization"
      ]
    },
    {
      "cell_type": "code",
      "metadata": {
        "id": "6JgjfPFdzbTT",
        "colab_type": "code",
        "colab": {}
      },
      "source": [
        "### import plotly\n",
        "import plotly.express as px\n",
        "import plotly.graph_objects as go\n"
      ],
      "execution_count": null,
      "outputs": []
    },
    {
      "cell_type": "code",
      "metadata": {
        "id": "ZuFHgt6xzeWR",
        "colab_type": "code",
        "colab": {}
      },
      "source": [
        "df_gapminder = px.data.gapminder()\n",
        "df_gapminder.head()"
      ],
      "execution_count": null,
      "outputs": []
    },
    {
      "cell_type": "code",
      "metadata": {
        "id": "uc40xbSwN48j",
        "colab_type": "code",
        "colab": {}
      },
      "source": [
        "### merge the data set\n",
        "df_merge=df_OWID.merge(df_gapminder, left_on='location', right_on='country',\n",
        "          how='inner')\n",
        "df_merge.head()"
      ],
      "execution_count": null,
      "outputs": []
    },
    {
      "cell_type": "markdown",
      "metadata": {
        "id": "gp1gRgpjUXWH",
        "colab_type": "text"
      },
      "source": [
        "### Check out the dictionary of color scale here: https://plotly.com/python/builtin-colorscales/"
      ]
    },
    {
      "cell_type": "code",
      "metadata": {
        "id": "rA7k3bIWPgjQ",
        "colab_type": "code",
        "colab": {}
      },
      "source": [
        "\n",
        "fig = px.choropleth(df_OWID, color=\"total_cases\",\n",
        "                    locations=\"iso_code\",\n",
        "                    color_continuous_scale=px.colors.diverging.RdYlGn[::-1],\n",
        "                    animation_frame=\"date\"\n",
        "                   )\n",
        "fig.update_layout(title_text = 'Covid-19 Total Cases',    \n",
        "                   )\n",
        "fig.show()"
      ],
      "execution_count": null,
      "outputs": []
    },
    {
      "cell_type": "code",
      "metadata": {
        "id": "mgAUml2gUEn5",
        "colab_type": "code",
        "colab": {}
      },
      "source": [
        "### View Plotly Themes: https://plotly.com/python/templates/\n",
        "import plotly.io as pio\n",
        "pio.templates "
      ],
      "execution_count": null,
      "outputs": []
    },
    {
      "cell_type": "code",
      "metadata": {
        "id": "kAO_vhW-ULUS",
        "colab_type": "code",
        "colab": {}
      },
      "source": [
        "fig = px.choropleth(df_OWID, color=\"total_cases\",\n",
        "                    locations=\"iso_code\",\n",
        "                    color_continuous_scale=px.colors.diverging.Picnic,\n",
        "                    animation_frame=\"date\", \n",
        "                    template = 'plotly_white'\n",
        "                   )\n",
        "fig.update_layout(title_text = 'Covid-19 Total Cases',    \n",
        "                   )\n",
        "fig.show()"
      ],
      "execution_count": null,
      "outputs": []
    },
    {
      "cell_type": "code",
      "metadata": {
        "id": "gWAFlQclXA-T",
        "colab_type": "code",
        "colab": {}
      },
      "source": [
        "fig = px.choropleth(df_OWID, color=\"new_cases\",\n",
        "                    locations=\"iso_code\",\n",
        "                    color_continuous_scale=px.colors.diverging.Picnic,\n",
        "                    animation_frame=\"date\", \n",
        "                    template = 'plotly_white'\n",
        "                   )\n",
        "fig.update_layout(title_text = 'Covid-19 Total Cases',    \n",
        "                   )\n",
        "fig.show()"
      ],
      "execution_count": null,
      "outputs": []
    },
    {
      "cell_type": "code",
      "metadata": {
        "id": "a4oLC__WZMmo",
        "colab_type": "code",
        "colab": {}
      },
      "source": [
        "fig = px.choropleth(df_OWID, color=\"total_cases_per_million\",\n",
        "                    locations=\"iso_code\",\n",
        "                    color_continuous_scale=px.colors.diverging.Picnic,\n",
        "                    animation_frame=\"date\", \n",
        "                    template = 'plotly_white'\n",
        "                   )\n",
        "fig.update_layout(title_text = 'Covid-19 Total Cases',    \n",
        "                   )\n",
        "fig.show()"
      ],
      "execution_count": null,
      "outputs": []
    },
    {
      "cell_type": "code",
      "metadata": {
        "id": "FvHi9K_cZb_L",
        "colab_type": "code",
        "colab": {}
      },
      "source": [
        "fig = px.choropleth(df_OWID, color=\"new_cases_per_million\",\n",
        "                    locations=\"iso_code\",\n",
        "                    color_continuous_scale=px.colors.diverging.Picnic,\n",
        "                    animation_frame=\"date\", \n",
        "                    template = 'plotly_white'\n",
        "                   )\n",
        "fig.update_layout(title_text = 'Covid-19 Total Cases',    \n",
        "                   )\n",
        "fig.show()"
      ],
      "execution_count": null,
      "outputs": []
    },
    {
      "cell_type": "code",
      "metadata": {
        "id": "PlIiIjslZ9x4",
        "colab_type": "code",
        "colab": {}
      },
      "source": [
        "fig = px.choropleth(df_OWID, color=\"stringency_index\",\n",
        "                    locations=\"iso_code\",\n",
        "                    color_continuous_scale=px.colors.diverging.Picnic,\n",
        "                    animation_frame=\"date\", \n",
        "                    template = 'plotly_white'\n",
        "                   )\n",
        "fig.update_layout(title_text = 'Covid-19 Total Cases',    \n",
        "                   )\n",
        "fig.show()"
      ],
      "execution_count": null,
      "outputs": []
    },
    {
      "cell_type": "markdown",
      "metadata": {
        "id": "vAdKTUFyZu04",
        "colab_type": "text"
      },
      "source": [
        "**Step 4**: Plot USA and World Data and Post on Plotly Chart Studio"
      ]
    },
    {
      "cell_type": "code",
      "metadata": {
        "id": "1DD780miZ2eV",
        "colab_type": "code",
        "colab": {}
      },
      "source": [
        "### Install Chart Studio\n",
        "!pip install chart_studio"
      ],
      "execution_count": null,
      "outputs": []
    },
    {
      "cell_type": "code",
      "metadata": {
        "id": "oT5EtyP1aStg",
        "colab_type": "code",
        "colab": {}
      },
      "source": [
        "### Import Relevant Packages\n",
        "import chart_studio\n",
        "username = 'zlysunshine2020'\n",
        "api_key = 'sJRjh7aQUk7NqF0KPlSS'\n",
        "\n",
        "import chart_studio.plotly as py\n",
        "import chart_studio.tools as tls"
      ],
      "execution_count": null,
      "outputs": []
    },
    {
      "cell_type": "code",
      "metadata": {
        "id": "-l7GRegpabtI",
        "colab_type": "code",
        "colab": {}
      },
      "source": [
        "###Time Series with Range Selector Buttons\n",
        "fig = px.line(df_USA, x=df_USA.index, y='total_cases_per_million')\n",
        "fig.update_layout(\n",
        "                  title_text=\"Covid-19 USA: Total Case Per Million\", \n",
        "                  template = 'plotly_white')\n",
        "fig.update_xaxes(\n",
        "    rangeslider_visible=True,\n",
        "    rangeselector=dict(\n",
        "        buttons=list([\n",
        "            dict(step=\"all\"),\n",
        "            dict(count=1, label=\"1m\", step=\"month\", stepmode=\"backward\"),\n",
        "            dict(count=3, label=\"3m\", step=\"month\", stepmode=\"backward\"),\n",
        "\n",
        "          \n",
        "        ])\n",
        "    )\n",
        ")\n",
        "fig.show()"
      ],
      "execution_count": null,
      "outputs": []
    },
    {
      "cell_type": "code",
      "metadata": {
        "id": "vlgBd4HqbZfU",
        "colab_type": "code",
        "colab": {}
      },
      "source": [
        "chart_studio.tools.set_credentials_file(username='zlysunshine2020', api_key='sJRjh7aQUk7NqF0KPlSS')"
      ],
      "execution_count": null,
      "outputs": []
    },
    {
      "cell_type": "code",
      "metadata": {
        "id": "jzvkCWC0bmLX",
        "colab_type": "code",
        "colab": {}
      },
      "source": [
        "py.plot(fig,filename = 'Covid-19 USA:total cases',auto_open=False)"
      ],
      "execution_count": null,
      "outputs": []
    },
    {
      "cell_type": "code",
      "metadata": {
        "id": "FUnVVddabAxx",
        "colab_type": "code",
        "colab": {}
      },
      "source": [
        "###Time Series with Range Selector Buttons\n",
        "fig = px.line(df_World, x=df_World.index, y='total_cases_per_million')\n",
        "fig.update_layout(\n",
        "                  title_text=\"World: Total Case Per Million\", \n",
        "                  template = 'plotly_white')\n",
        "fig.update_xaxes(\n",
        "    rangeslider_visible=True,\n",
        "    rangeselector=dict(\n",
        "        buttons=list([\n",
        "            dict(step=\"all\"),\n",
        "            dict(count=1, label=\"1m\", step=\"month\", stepmode=\"backward\"),\n",
        "            dict(count=3, label=\"3m\", step=\"month\", stepmode=\"backward\"),\n",
        "\n",
        "          \n",
        "        ])\n",
        "    )\n",
        ")\n",
        "fig.show()"
      ],
      "execution_count": null,
      "outputs": []
    },
    {
      "cell_type": "code",
      "metadata": {
        "id": "U0gw7f_ebSkt",
        "colab_type": "code",
        "colab": {}
      },
      "source": [
        "py.plot(fig,filename = 'Covid-19 World:total cases',auto_open=False)"
      ],
      "execution_count": null,
      "outputs": []
    },
    {
      "cell_type": "code",
      "metadata": {
        "id": "oChwJsCLcKf1",
        "colab_type": "code",
        "colab": {}
      },
      "source": [
        "###Time Series with Range Selector Buttons\n",
        "fig = px.line(df_USA, x=df_USA.index, y='new_cases_per_million')\n",
        "fig.update_layout(\n",
        "                  title_text=\"Covid-19 USA: New Case Per Million\", \n",
        "                  template = 'plotly_white')\n",
        "fig.update_xaxes(\n",
        "    rangeslider_visible=True,\n",
        "    rangeselector=dict(\n",
        "        buttons=list([\n",
        "            dict(step=\"all\"),\n",
        "            dict(count=1, label=\"1m\", step=\"month\", stepmode=\"backward\"),\n",
        "            dict(count=3, label=\"3m\", step=\"month\", stepmode=\"backward\"),\n",
        "\n",
        "          \n",
        "        ])\n",
        "    )\n",
        ")\n",
        "fig.show()"
      ],
      "execution_count": null,
      "outputs": []
    },
    {
      "cell_type": "code",
      "metadata": {
        "id": "-6Ghc1IFcQT5",
        "colab_type": "code",
        "colab": {}
      },
      "source": [
        "py.plot(fig,filename = 'Covid-19 USA:new cases',auto_open=False)"
      ],
      "execution_count": null,
      "outputs": []
    },
    {
      "cell_type": "code",
      "metadata": {
        "id": "gOE4-GkTcVxa",
        "colab_type": "code",
        "colab": {}
      },
      "source": [
        "###Time Series with Range Selector Buttons\n",
        "fig = px.line(df_World, x=df_World.index, y='new_cases_per_million')\n",
        "fig.update_layout(\n",
        "                  title_text=\"World: New Case Per Million\", \n",
        "                  template = 'plotly_white')\n",
        "fig.update_xaxes(\n",
        "    rangeslider_visible=True,\n",
        "    rangeselector=dict(\n",
        "        buttons=list([\n",
        "            dict(step=\"all\"),\n",
        "            dict(count=1, label=\"1m\", step=\"month\", stepmode=\"backward\"),\n",
        "            dict(count=3, label=\"3m\", step=\"month\", stepmode=\"backward\"),\n",
        "\n",
        "          \n",
        "        ])\n",
        "    )\n",
        ")\n",
        "fig.show()"
      ],
      "execution_count": null,
      "outputs": []
    },
    {
      "cell_type": "code",
      "metadata": {
        "id": "AtEtFo38ceKC",
        "colab_type": "code",
        "colab": {}
      },
      "source": [
        "py.plot(fig,filename = 'Covid-19 World:new cases',auto_open=False)"
      ],
      "execution_count": null,
      "outputs": []
    },
    {
      "cell_type": "code",
      "metadata": {
        "id": "c-ZDP5gIchQp",
        "colab_type": "code",
        "colab": {}
      },
      "source": [
        ""
      ],
      "execution_count": null,
      "outputs": []
    }
  ]
}