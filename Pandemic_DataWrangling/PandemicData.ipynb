{
  "nbformat": 4,
  "nbformat_minor": 0,
  "metadata": {
    "colab": {
      "name": "PandemicData.ipynb",
      "provenance": [],
      "private_outputs": true,
      "authorship_tag": "ABX9TyPHsycxl208PRnJx2nDl/oS",
      "include_colab_link": true
    },
    "kernelspec": {
      "name": "python3",
      "display_name": "Python 3"
    }
  },
  "cells": [
    {
      "cell_type": "markdown",
      "metadata": {
        "id": "view-in-github",
        "colab_type": "text"
      },
      "source": [
        "<a href=\"https://colab.research.google.com/github/sunshineluyao/ESG/blob/master/Pandemic_DataWrangling/PandemicData.ipynb\" target=\"_parent\"><img src=\"https://colab.research.google.com/assets/colab-badge.svg\" alt=\"Open In Colab\"/></a>"
      ]
    },
    {
      "cell_type": "markdown",
      "metadata": {
        "id": "rWAXDhfypz4a",
        "colab_type": "text"
      },
      "source": [
        "**Step 1**: Import Data from https://github.com/owid/covid-19-data/tree/master/public/data/who"
      ]
    },
    {
      "cell_type": "code",
      "metadata": {
        "id": "AeAkId9Bou9b",
        "colab_type": "code",
        "colab": {}
      },
      "source": [
        "### import packages\n",
        "import pandas as pd\n",
        "import numpy as np\n",
        "### show all columns\n",
        "pd.set_option('display.max_columns', None)\n",
        "pd.set_option('display.max_rows', None)"
      ],
      "execution_count": null,
      "outputs": []
    },
    {
      "cell_type": "code",
      "metadata": {
        "id": "Np6UwaTzrD0s",
        "colab_type": "code",
        "colab": {}
      },
      "source": [
        "## Import data\n",
        "df_OWID= pd.read_csv(\"https://raw.githubusercontent.com/owid/covid-19-data/master/public/data/owid-covid-data.csv\")\n",
        "df_OWID.head()"
      ],
      "execution_count": null,
      "outputs": []
    },
    {
      "cell_type": "markdown",
      "metadata": {
        "id": "V1CVczQ_sJPv",
        "colab_type": "text"
      },
      "source": [
        "**Step 2**: Data Wranging"
      ]
    },
    {
      "cell_type": "code",
      "metadata": {
        "id": "eRC1cqair_CY",
        "colab_type": "code",
        "colab": {}
      },
      "source": [
        "### get all country values\n",
        "country_values=df_OWID['location'].values.ravel()\n",
        "country=pd.unique(country_values)\n",
        "country"
      ],
      "execution_count": null,
      "outputs": []
    },
    {
      "cell_type": "code",
      "metadata": {
        "id": "r31NDKvHsPSO",
        "colab_type": "code",
        "colab": {}
      },
      "source": [
        "### Get USA Data\n",
        "df_USA=df_OWID[df_OWID['location']=='United States']\n",
        "df_USA.head()"
      ],
      "execution_count": null,
      "outputs": []
    },
    {
      "cell_type": "code",
      "metadata": {
        "id": "JnYHaaPYvGYK",
        "colab_type": "code",
        "colab": {}
      },
      "source": [
        "df_USA.set_index('date', inplace = True) \n",
        "df_USA.head()"
      ],
      "execution_count": null,
      "outputs": []
    },
    {
      "cell_type": "code",
      "metadata": {
        "id": "9CMm8YPqwxxW",
        "colab_type": "code",
        "colab": {}
      },
      "source": [
        "df_USA.index.name=None\n",
        "df_USA.head()"
      ],
      "execution_count": null,
      "outputs": []
    },
    {
      "cell_type": "code",
      "metadata": {
        "id": "zoLE9C_pxBx-",
        "colab_type": "code",
        "colab": {}
      },
      "source": [
        "# set the index to datetime format\n",
        "df_USA.index=pd.to_datetime(df_USA.index)"
      ],
      "execution_count": null,
      "outputs": []
    },
    {
      "cell_type": "code",
      "metadata": {
        "id": "l9Px6z8ExaGt",
        "colab_type": "code",
        "colab": {}
      },
      "source": [
        "### Get World Data\n",
        "df_World=df_OWID[df_OWID['location']=='World']\n",
        "df_World.head()"
      ],
      "execution_count": null,
      "outputs": []
    },
    {
      "cell_type": "code",
      "metadata": {
        "id": "ara_4zRsyfIo",
        "colab_type": "code",
        "colab": {}
      },
      "source": [
        "df_World.set_index('date', inplace = True) "
      ],
      "execution_count": null,
      "outputs": []
    },
    {
      "cell_type": "code",
      "metadata": {
        "id": "gHfsBxAoyrkZ",
        "colab_type": "code",
        "colab": {}
      },
      "source": [
        "df_World.index.name=None\n",
        "df_World.index=pd.to_datetime(df_World.index)\n",
        "df_World.head()"
      ],
      "execution_count": null,
      "outputs": []
    },
    {
      "cell_type": "code",
      "metadata": {
        "id": "dYScB0fZzN6g",
        "colab_type": "code",
        "colab": {}
      },
      "source": [
        "### Save USA and World Data\n",
        "df_USA.to_csv('Pandemic_USA.csv')\n",
        "df_World.to_csv('Pandemic_World.csv')"
      ],
      "execution_count": null,
      "outputs": []
    },
    {
      "cell_type": "markdown",
      "metadata": {
        "id": "9lMCPrZp0m7d",
        "colab_type": "text"
      },
      "source": [
        "**Step 3**: World Interactive Map Visualization"
      ]
    },
    {
      "cell_type": "code",
      "metadata": {
        "id": "6JgjfPFdzbTT",
        "colab_type": "code",
        "colab": {}
      },
      "source": [
        ""
      ],
      "execution_count": null,
      "outputs": []
    },
    {
      "cell_type": "code",
      "metadata": {
        "id": "ZuFHgt6xzeWR",
        "colab_type": "code",
        "colab": {}
      },
      "source": [
        ""
      ],
      "execution_count": null,
      "outputs": []
    }
  ]
}